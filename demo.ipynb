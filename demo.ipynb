{
 "cells": [
  {
   "cell_type": "code",
   "execution_count": 1,
   "metadata": {},
   "outputs": [],
   "source": [
    "\n",
    "import pandas as pd\n",
    "import numpy as np\n",
    "import os\n",
    "path = os.getcwd()"
   ]
  },
  {
   "cell_type": "code",
   "execution_count": 2,
   "metadata": {},
   "outputs": [
    {
     "name": "stdout",
     "output_type": "stream",
     "text": [
      "Excel資料成功轉換成dataframe... \n",
      "\n"
     ]
    }
   ],
   "source": [
    "\n",
    "import pandas as pd\n",
    "import openpyxl\n",
    "df = pd.read_excel(r\"C:\\Users\\admin\\Desktop\\MRP.XLSX\", engine=\"openpyxl\")\n",
    "print(\"Excel資料成功轉換成dataframe...\", \"\\n\")"
   ]
  },
  {
   "cell_type": "code",
   "execution_count": 3,
   "metadata": {},
   "outputs": [
    {
     "name": "stdout",
     "output_type": "stream",
     "text": [
      "['PLANT', 'MRP AREA', 'PARTNO', 'PART DESCRIPTION', 'VENDOR CODE', 'VENDOR NAME', 'OA Code', 'ABC Ind.', 'MRP Controller', 'REQUEST ITEM', 'PASSDUE', '20230626', '20230703', '20230710', '20230717', '20230724', '20230731', '20230807', '20230814', '20230821', '20230828', '20230904', '20230911', '20230918', 'SEP', 'OCT', 'NOV', 'DEC', 'FUTURE', 'TOTAL', 'PLANT STOCK', 'INSP. STOCK', 'VENDOR PARTNO', 'MRP TYPE', 'UNIT', 'MRP DATE', 'PURCHASING GROUP', 'ROUNDING VALUE', 'LEAD TIME', 'SAFETY STOCK', 'LEAD FREE OF STORAGE LCOATION STOCK', 'Drawing Version', 'Replacement Part Item', 'Replacement Part Description', 'Remark', 'MRP CONTROLLER NAME', 'Range', 'HALOGEN FREE', 'LEAD FREE', 'Purchasing Name', 'MD04 MEMO'] \n",
      "\n",
      "  PLANT  MRP AREA      PARTNO               PART DESCRIPTION VENDOR CODE VENDOR NAME     OA Code ABC Ind. MRP Controller REQUEST ITEM  PASSDUE  20230626  20230703  20230710  20230717  20230724  20230731  20230807  20230814  20230821  20230828  20230904  20230911  20230918     SEP     OCT     NOV     DEC   FUTURE    TOTAL  PLANT STOCK  INSP. STOCK      VENDOR PARTNO MRP TYPE UNIT   MRP DATE PURCHASING GROUP  ROUNDING VALUE  LEAD TIME  SAFETY STOCK  LEAD FREE OF STORAGE LCOATION STOCK  Drawing Version Replacement Part Item Replacement Part Description Remark MRP CONTROLLER NAME Range HALOGEN FREE LEAD FREE Purchasing Name MD04 MEMO\n",
      "0  NTL7       NaN  0341063300  RES SMD 1/10W 15.8Kohm F 0603  0000210032       YAGEO  0000210032        C            010  GROSS REQTS   2009.0       0.0    1896.0     580.0     236.0     200.0     100.0       0.0       0.0       0.0     401.0      16.0      50.0       0.0   400.0   100.0  2906.0  2548.0  16531.0  27973.0       9057.0            0  RC0603FR-07 15K8L       PD  PCE 2023-06-22              BNG          5000.0        112             0                                    0              9.0                   NaN                           No    NaN            RESISTOR   NaN         HF83        TM        NTL3-陳金水       NaN\n",
      "1  NTL7       NaN  0341063300  RES SMD 1/10W 15.8Kohm F 0603  0000210032       YAGEO  0000210032        C            010  FIRM ORDERS      0.0       0.0       0.0       0.0       0.0       0.0       0.0       0.0       0.0       0.0       0.0       0.0       0.0       0.0     0.0     0.0     0.0     0.0      0.0      0.0       9057.0            0  RC0603FR-07 15K8L       PD  PCE 2023-06-22              BNG          5000.0        112             0                                    0              9.0                   NaN                           No    NaN            RESISTOR   NaN         HF83        TM        NTL3-陳金水       NaN\n",
      "2  NTL7       NaN  0341063300  RES SMD 1/10W 15.8Kohm F 0603  0000210032       YAGEO  0000210032        C            010  PLAN ORDERS      0.0       0.0       0.0       0.0       0.0       0.0       0.0       0.0       0.0       0.0       0.0       0.0       0.0       0.0     0.0     0.0     0.0  5000.0  15000.0  20000.0       9057.0            0  RC0603FR-07 15K8L       PD  PCE 2023-06-22              BNG          5000.0        112             0                                    0              9.0                   NaN                           No    NaN            RESISTOR   NaN         HF83        TM        NTL3-陳金水       NaN\n",
      "3  NTL7       NaN  0341063300  RES SMD 1/10W 15.8Kohm F 0603  0000210032       YAGEO  0000210032        C            010   NET  AVAIL   7048.0    7048.0    5152.0    4572.0    4336.0    4136.0    4036.0    4036.0    4036.0    4036.0    3635.0    3619.0    3569.0    3569.0  3169.0  3069.0   163.0 -2385.0 -18916.0  47928.0       9057.0            0  RC0603FR-07 15K8L       PD  PCE 2023-06-22              BNG          5000.0        112             0                                    0              9.0                   NaN                           No    NaN            RESISTOR   NaN         HF83        TM        NTL3-陳金水       NaN\n",
      "4  NTL7       NaN  0341080300    RES SMD 1/10W 56Kohm F 0603  0000210032       YAGEO  0000210032        C            010  GROSS REQTS      0.0       0.0      85.0       0.0       0.0       0.0       0.0     456.0       0.0       0.0     180.0     184.0     148.0       0.0     0.0   732.0   461.0   180.0   2716.0   5142.0       1898.0            0   RC0603FR-07 56KL       PD  PCE 2023-06-22              BNG          5000.0        112             0                                    0              9.0                   NaN                           No    NaN            RESISTOR   NaN         HF83        TM        NTL3-陳金水       NaN\n",
      "5  NTL7       NaN  0341080300    RES SMD 1/10W 56Kohm F 0603  0000210032       YAGEO  0000210032        C            010  FIRM ORDERS      0.0       0.0       0.0       0.0       0.0       0.0       0.0       0.0       0.0       0.0       0.0       0.0       0.0       0.0     0.0     0.0     0.0     0.0      0.0      0.0       1898.0            0   RC0603FR-07 56KL       PD  PCE 2023-06-22              BNG          5000.0        112             0                                    0              9.0                   NaN                           No    NaN            RESISTOR   NaN         HF83        TM        NTL3-陳金水       NaN\n",
      "6  NTL7       NaN  0341080300    RES SMD 1/10W 56Kohm F 0603  0000210032       YAGEO  0000210032        C            010  PLAN ORDERS      0.0       0.0       0.0       0.0       0.0       0.0       0.0       0.0       0.0       0.0       0.0       0.0       0.0       0.0     0.0     0.0  5000.0     0.0      0.0   5000.0       1898.0            0   RC0603FR-07 56KL       PD  PCE 2023-06-22              BNG          5000.0        112             0                                    0              9.0                   NaN                           No    NaN            RESISTOR   NaN         HF83        TM        NTL3-陳金水       NaN\n",
      "7  NTL7       NaN  0341080300    RES SMD 1/10W 56Kohm F 0603  0000210032       YAGEO  0000210032        C            010   NET  AVAIL   1898.0    1898.0    1813.0    1813.0    1813.0    1813.0    1813.0    1357.0    1357.0    1357.0    1177.0     993.0     845.0     845.0   845.0   113.0  -348.0  -528.0  -3244.0  17630.0       1898.0            0   RC0603FR-07 56KL       PD  PCE 2023-06-22              BNG          5000.0        112             0                                    0              9.0                   NaN                           No    NaN            RESISTOR   NaN         HF83        TM        NTL3-陳金水       NaN\n",
      "8  NTL7       NaN  0341092100    RES SMD 1/8W 150Kohm F 0805  0000210032       YAGEO  0000210032        C            010  GROSS REQTS      0.0       0.0    1050.0       0.0    2000.0       0.0       0.0       0.0       0.0       0.0    2000.0       0.0       0.0       0.0  3150.0  2000.0  2000.0  2000.0  13000.0  27200.0      10634.0            0  RC0805FR-07 150KL       PD  PCE 2023-06-22              BNG          5000.0        112             0                                    0              9.0                   NaN                           No    NaN            RESISTOR   NaN         HF83        SM        NTL3-陳金水       NaN\n",
      "9  NTL7       NaN  0341092100    RES SMD 1/8W 150Kohm F 0805  0000210032       YAGEO  0000210032        C            010  FIRM ORDERS  10000.0       0.0       0.0       0.0       0.0       0.0       0.0       0.0       0.0       0.0       0.0       0.0       0.0       0.0     0.0     0.0     0.0     0.0      0.0  10000.0      10634.0            0  RC0805FR-07 150KL       PD  PCE 2023-06-22              BNG          5000.0        112             0                                    0              9.0                   NaN                           No    NaN            RESISTOR   NaN         HF83        SM        NTL3-陳金水       NaN \n",
      "\n"
     ]
    }
   ],
   "source": [
    "pd.set_option('display.max_columns', None)\n",
    "pd.set_option('display.max_rows', None)\n",
    "pd.set_option('display.expand_frame_repr', None)\n",
    "col_list = [i for i in df.columns]\n",
    "print(col_list, \"\\n\")\n",
    "print(df.head(10), \"\\n\")\n",
    "\n"
   ]
  },
  {
   "cell_type": "code",
   "execution_count": 4,
   "metadata": {},
   "outputs": [
    {
     "name": "stdout",
     "output_type": "stream",
     "text": [
      "19 \n",
      "\n",
      "       PARTNO REQUEST ITEM  Total_Stock  PASSDUE  20230626  20230703  20230710  20230717  20230724  20230731  20230807  20230814  20230821  20230828  20230904  20230911  20230918     SEP     OCT      NOV     DEC   FUTURE\n",
      "0  0341063300  GROSS REQTS       9057.0   2009.0       0.0    1896.0     580.0     236.0     200.0     100.0       0.0       0.0       0.0     401.0      16.0      50.0       0.0   400.0   100.0   2906.0  2548.0  16531.0\n",
      "1  0341080300  GROSS REQTS       1898.0      0.0       0.0      85.0       0.0       0.0       0.0       0.0     456.0       0.0       0.0     180.0     184.0     148.0       0.0     0.0   732.0    461.0   180.0   2716.0\n",
      "2  0341092100  GROSS REQTS      10634.0      0.0       0.0    1050.0       0.0    2000.0       0.0       0.0       0.0       0.0       0.0    2000.0       0.0       0.0       0.0  3150.0  2000.0   2000.0  2000.0  13000.0\n",
      "3  0341097300  GROSS REQTS      10597.0      0.0       0.0      11.0       0.0     382.0       0.0       0.0     116.0       0.0     750.0     103.0    1020.0      50.0    1000.0     0.0  1292.0   1445.0   222.0  14435.0\n",
      "4  0341102300  GROSS REQTS      36132.0   2179.0    5000.0    1766.0   10600.0    2940.0    6445.0    1600.0     110.0      60.0    3818.0     800.0    6606.0     190.0    2000.0  3500.0  7650.0  13630.0  9478.0  33223.0 \n",
      "\n",
      "['PASSDUE', '20230626', '20230703', '20230710', '20230717', '20230724', '20230731', '20230807', '20230814', '20230821', '20230828', '20230904', '20230911', '20230918', 'SEP', 'OCT', 'NOV', 'DEC', 'FUTURE'] \n",
      "\n"
     ]
    }
   ],
   "source": [
    "condition = df['REQUEST ITEM']=='FIRM ORDERS'\n",
    "dff = df.loc[condition, ['PARTNO', 'REQUEST ITEM','TOTAL']]\n",
    "\n",
    "dff.columns = ['PARTNO', 'REQUEST ITEM', 'TOTAL_FIRM ORDERS']\n",
    "dff['REQUEST ITEM'] = 'GROSS REQTS'\n",
    "dff.index = [i for i in range(len(dff))]\n",
    "dfc = pd.merge(df, dff, on = ['PARTNO', 'REQUEST ITEM'], how='left')\n",
    "\n",
    "condition = df['REQUEST ITEM']=='GROSS REQTS'\n",
    "dfc.loc[condition, 'LEAD_TIME_Week'] = np.ceil(dfc['LEAD TIME']/7)\n",
    "start_col = dfc.columns.get_loc('PASSDUE')\n",
    "end_col = dfc.columns.get_loc('FUTURE')\n",
    "term_week_col = end_col - start_col + 1\n",
    "print(term_week_col, \"\\n\")\n",
    "\n",
    "for i in range(len(dfc)):\n",
    "    if dfc.loc[i, 'LEAD_TIME_Week'] >= term_week_col:\n",
    "        dfc.loc[i, 'LEAD_TIME_Week_Limit'] = term_week_col\n",
    "    if dfc.loc[i, 'LEAD_TIME_Week'] < term_week_col:\n",
    "        dfc.loc[i, 'LEAD_TIME_Week_Limit'] = dfc.loc[i, 'LEAD_TIME_Week']\n",
    "    \n",
    "\n",
    "dfc.loc[condition, 'Total_Stock'] = dfc.loc[condition, 'PLANT STOCK'] + dfc.loc[condition, 'INSP. STOCK']\n",
    "\n",
    "selected_columns = ['PARTNO', 'REQUEST ITEM','Total_Stock'] + list(dfc.loc[:, 'PASSDUE':'FUTURE'].columns)\n",
    "dfc_result = dfc.loc[condition, selected_columns]\n",
    "dfc_result.reset_index(drop=True, inplace=True)\n",
    "gross_cum_list = list(dfc.loc[:, 'PASSDUE':'FUTURE'].columns)\n",
    "print(dfc_result.head(5), '\\n')\n",
    "print(gross_cum_list, '\\n')    \n"
   ]
  },
  {
   "cell_type": "code",
   "execution_count": 5,
   "metadata": {},
   "outputs": [
    {
     "name": "stdout",
     "output_type": "stream",
     "text": [
      "  PLANT  MRP AREA      PARTNO               PART DESCRIPTION VENDOR CODE VENDOR NAME     OA Code ABC Ind. MRP Controller REQUEST ITEM  PASSDUE  20230626  20230703  20230710  20230717  20230724  20230731  20230807  20230814  20230821  20230828  20230904  20230911  20230918     SEP     OCT     NOV     DEC   FUTURE    TOTAL  PLANT STOCK  INSP. STOCK      VENDOR PARTNO MRP TYPE UNIT   MRP DATE PURCHASING GROUP  ROUNDING VALUE  LEAD TIME  SAFETY STOCK  LEAD FREE OF STORAGE LCOATION STOCK  Drawing Version Replacement Part Item Replacement Part Description Remark MRP CONTROLLER NAME Range HALOGEN FREE LEAD FREE Purchasing Name MD04 MEMO  TOTAL_FIRM ORDERS  LEAD_TIME_Week  LEAD_TIME_Week_Limit  Total_Stock Demand_Week\n",
      "0  NTL7       NaN  0341063300  RES SMD 1/10W 15.8Kohm F 0603  0000210032       YAGEO  0000210032        C            010  GROSS REQTS   2009.0       0.0    1896.0     580.0     236.0     200.0     100.0       0.0       0.0       0.0     401.0      16.0      50.0       0.0   400.0   100.0  2906.0  2548.0  16531.0  27973.0       9057.0            0  RC0603FR-07 15K8L       PD  PCE 2023-06-22              BNG          5000.0        112             0                                    0              9.0                   NaN                           No    NaN            RESISTOR   NaN         HF83        TM        NTL3-陳金水       NaN                0.0            16.0                  16.0       9057.0         DEC\n",
      "1  NTL7       NaN  0341063300  RES SMD 1/10W 15.8Kohm F 0603  0000210032       YAGEO  0000210032        C            010  FIRM ORDERS      0.0       0.0       0.0       0.0       0.0       0.0       0.0       0.0       0.0       0.0       0.0       0.0       0.0       0.0     0.0     0.0     0.0     0.0      0.0      0.0       9057.0            0  RC0603FR-07 15K8L       PD  PCE 2023-06-22              BNG          5000.0        112             0                                    0              9.0                   NaN                           No    NaN            RESISTOR   NaN         HF83        TM        NTL3-陳金水       NaN                NaN             NaN                   NaN          NaN         NaN\n",
      "2  NTL7       NaN  0341063300  RES SMD 1/10W 15.8Kohm F 0603  0000210032       YAGEO  0000210032        C            010  PLAN ORDERS      0.0       0.0       0.0       0.0       0.0       0.0       0.0       0.0       0.0       0.0       0.0       0.0       0.0       0.0     0.0     0.0     0.0  5000.0  15000.0  20000.0       9057.0            0  RC0603FR-07 15K8L       PD  PCE 2023-06-22              BNG          5000.0        112             0                                    0              9.0                   NaN                           No    NaN            RESISTOR   NaN         HF83        TM        NTL3-陳金水       NaN                NaN             NaN                   NaN          NaN         NaN\n",
      "3  NTL7       NaN  0341063300  RES SMD 1/10W 15.8Kohm F 0603  0000210032       YAGEO  0000210032        C            010   NET  AVAIL   7048.0    7048.0    5152.0    4572.0    4336.0    4136.0    4036.0    4036.0    4036.0    4036.0    3635.0    3619.0    3569.0    3569.0  3169.0  3069.0   163.0 -2385.0 -18916.0  47928.0       9057.0            0  RC0603FR-07 15K8L       PD  PCE 2023-06-22              BNG          5000.0        112             0                                    0              9.0                   NaN                           No    NaN            RESISTOR   NaN         HF83        TM        NTL3-陳金水       NaN                NaN             NaN                   NaN          NaN         NaN\n",
      "4  NTL7       NaN  0341080300    RES SMD 1/10W 56Kohm F 0603  0000210032       YAGEO  0000210032        C            010  GROSS REQTS      0.0       0.0      85.0       0.0       0.0       0.0       0.0     456.0       0.0       0.0     180.0     184.0     148.0       0.0     0.0   732.0   461.0   180.0   2716.0   5142.0       1898.0            0   RC0603FR-07 56KL       PD  PCE 2023-06-22              BNG          5000.0        112             0                                    0              9.0                   NaN                           No    NaN            RESISTOR   NaN         HF83        TM        NTL3-陳金水       NaN                0.0            16.0                  16.0       1898.0         NOV \n",
      "\n"
     ]
    }
   ],
   "source": [
    "for i in range(len(dfc_result)):\n",
    "    res = 0\n",
    "    for j in gross_cum_list:\n",
    "        res = res + dfc_result.loc[i, j]\n",
    "        if res > dfc_result.loc[i, 'Total_Stock']:\n",
    "            dfc_result.loc[i, 'Demand_Week'] = j\n",
    "            break\n",
    "        else:\n",
    "            dfc_result.loc[i, 'Demand_Week'] = 'no demand'\n",
    "\n",
    "dfc = pd.merge(dfc, dfc_result.reindex(columns=['PARTNO', 'REQUEST ITEM', 'Demand_Week']), on=['PARTNO', 'REQUEST ITEM'], how='left')\n",
    "\n",
    "print(dfc.head(5), \"\\n\")\n",
    "# dfc.to_excel(path + \"\\\\\" + '456.xlsx', engine=\"openpyxl\", index=False)"
   ]
  },
  {
   "cell_type": "code",
   "execution_count": 6,
   "metadata": {},
   "outputs": [
    {
     "name": "stdout",
     "output_type": "stream",
     "text": [
      "  PLANT  MRP AREA      PARTNO               PART DESCRIPTION VENDOR CODE VENDOR NAME     OA Code ABC Ind. MRP Controller REQUEST ITEM  PASSDUE  20230626  20230703  20230710  20230717  20230724  20230731  20230807  20230814  20230821  20230828  20230904  20230911  20230918     SEP     OCT     NOV     DEC   FUTURE    TOTAL  PLANT STOCK  INSP. STOCK      VENDOR PARTNO MRP TYPE UNIT   MRP DATE PURCHASING GROUP  ROUNDING VALUE  LEAD TIME  SAFETY STOCK  LEAD FREE OF STORAGE LCOATION STOCK  Drawing Version Replacement Part Item Replacement Part Description Remark MRP CONTROLLER NAME Range HALOGEN FREE LEAD FREE Purchasing Name MD04 MEMO  TOTAL_FIRM ORDERS  LEAD_TIME_Week  LEAD_TIME_Week_Limit  Total_Stock Demand_Week  LEAD_TIME_GrossRequest\n",
      "0  NTL7       NaN  0341063300  RES SMD 1/10W 15.8Kohm F 0603  0000210032       YAGEO  0000210032        C            010  GROSS REQTS   2009.0       0.0    1896.0     580.0     236.0     200.0     100.0       0.0       0.0       0.0     401.0      16.0      50.0       0.0   400.0   100.0  2906.0  2548.0  16531.0  27973.0       9057.0            0  RC0603FR-07 15K8L       PD  PCE 2023-06-22              BNG          5000.0        112             0                                    0              9.0                   NaN                           No    NaN            RESISTOR   NaN         HF83        TM        NTL3-陳金水       NaN                0.0            16.0                  16.0       9057.0         DEC                  5988.0\n",
      "1  NTL7       NaN  0341063300  RES SMD 1/10W 15.8Kohm F 0603  0000210032       YAGEO  0000210032        C            010  FIRM ORDERS      0.0       0.0       0.0       0.0       0.0       0.0       0.0       0.0       0.0       0.0       0.0       0.0       0.0       0.0     0.0     0.0     0.0     0.0      0.0      0.0       9057.0            0  RC0603FR-07 15K8L       PD  PCE 2023-06-22              BNG          5000.0        112             0                                    0              9.0                   NaN                           No    NaN            RESISTOR   NaN         HF83        TM        NTL3-陳金水       NaN                NaN             NaN                   NaN          NaN         NaN                     NaN\n",
      "2  NTL7       NaN  0341063300  RES SMD 1/10W 15.8Kohm F 0603  0000210032       YAGEO  0000210032        C            010  PLAN ORDERS      0.0       0.0       0.0       0.0       0.0       0.0       0.0       0.0       0.0       0.0       0.0       0.0       0.0       0.0     0.0     0.0     0.0  5000.0  15000.0  20000.0       9057.0            0  RC0603FR-07 15K8L       PD  PCE 2023-06-22              BNG          5000.0        112             0                                    0              9.0                   NaN                           No    NaN            RESISTOR   NaN         HF83        TM        NTL3-陳金水       NaN                NaN             NaN                   NaN          NaN         NaN                     NaN\n",
      "3  NTL7       NaN  0341063300  RES SMD 1/10W 15.8Kohm F 0603  0000210032       YAGEO  0000210032        C            010   NET  AVAIL   7048.0    7048.0    5152.0    4572.0    4336.0    4136.0    4036.0    4036.0    4036.0    4036.0    3635.0    3619.0    3569.0    3569.0  3169.0  3069.0   163.0 -2385.0 -18916.0  47928.0       9057.0            0  RC0603FR-07 15K8L       PD  PCE 2023-06-22              BNG          5000.0        112             0                                    0              9.0                   NaN                           No    NaN            RESISTOR   NaN         HF83        TM        NTL3-陳金水       NaN                NaN             NaN                   NaN          NaN         NaN                     NaN\n",
      "4  NTL7       NaN  0341080300    RES SMD 1/10W 56Kohm F 0603  0000210032       YAGEO  0000210032        C            010  GROSS REQTS      0.0       0.0      85.0       0.0       0.0       0.0       0.0     456.0       0.0       0.0     180.0     184.0     148.0       0.0     0.0   732.0   461.0   180.0   2716.0   5142.0       1898.0            0   RC0603FR-07 56KL       PD  PCE 2023-06-22              BNG          5000.0        112             0                                    0              9.0                   NaN                           No    NaN            RESISTOR   NaN         HF83        TM        NTL3-陳金水       NaN                0.0            16.0                  16.0       1898.0         NOV                  1785.0\n"
     ]
    }
   ],
   "source": [
    "selected_columns = ['PARTNO', 'REQUEST ITEM', 'LEAD_TIME_Week_Limit'] + list(dfc.loc[:, 'PASSDUE':'FUTURE'].columns)\n",
    "\n",
    "dfcc = dfc.loc[condition, selected_columns]\n",
    "dfcc.reset_index(drop=True, inplace=True)\n",
    "start_col = dfc.columns.get_loc('PASSDUE')\n",
    "for i in range(len(dfcc)):\n",
    "    res = 0\n",
    "    for j in range(int(dfcc.loc[i, \"LEAD_TIME_Week_Limit\"])):\n",
    "        res = res + dfcc.iloc[i, 3 + j]\n",
    "    dfcc.loc[i, 'LEAD_TIME_GrossRequest'] = res\n",
    "\n",
    "\n",
    "dfc = pd.merge(dfc, dfcc[['PARTNO', 'REQUEST ITEM', 'LEAD_TIME_GrossRequest']], on = ['PARTNO', 'REQUEST ITEM'], how='left')\n",
    "\n",
    "print(dfc.head(5))\n"
   ]
  },
  {
   "cell_type": "code",
   "execution_count": 7,
   "metadata": {},
   "outputs": [
    {
     "name": "stdout",
     "output_type": "stream",
     "text": [
      "  PLANT  MRP AREA      PARTNO               PART DESCRIPTION VENDOR CODE VENDOR NAME     OA Code ABC Ind. MRP Controller REQUEST ITEM  PASSDUE  20230626  20230703  20230710  20230717  20230724  20230731  20230807  20230814  20230821  20230828  20230904  20230911  20230918     SEP     OCT     NOV     DEC   FUTURE    TOTAL  PLANT STOCK  INSP. STOCK      VENDOR PARTNO MRP TYPE UNIT   MRP DATE PURCHASING GROUP  ROUNDING VALUE  LEAD TIME  SAFETY STOCK  LEAD FREE OF STORAGE LCOATION STOCK  Drawing Version Replacement Part Item Replacement Part Description Remark MRP CONTROLLER NAME Range HALOGEN FREE LEAD FREE Purchasing Name MD04 MEMO  TOTAL_FIRM ORDERS  LEAD_TIME_Week  LEAD_TIME_Week_Limit  Total_Stock Demand_Week  LEAD_TIME_GrossRequest     AMT\n",
      "0  NTL7       NaN  0341063300  RES SMD 1/10W 15.8Kohm F 0603  0000210032       YAGEO  0000210032        C            010  GROSS REQTS   2009.0       0.0    1896.0     580.0     236.0     200.0     100.0       0.0       0.0       0.0     401.0      16.0      50.0       0.0   400.0   100.0  2906.0  2548.0  16531.0  27973.0       9057.0            0  RC0603FR-07 15K8L       PD  PCE 2023-06-22              BNG          5000.0        112             0                                    0              9.0                   NaN                           No    NaN            RESISTOR   NaN         HF83        TM        NTL3-陳金水       NaN                0.0            16.0                  16.0       9057.0         DEC                  5988.0  3069.0\n",
      "1  NTL7       NaN  0341063300  RES SMD 1/10W 15.8Kohm F 0603  0000210032       YAGEO  0000210032        C            010  FIRM ORDERS      0.0       0.0       0.0       0.0       0.0       0.0       0.0       0.0       0.0       0.0       0.0       0.0       0.0       0.0     0.0     0.0     0.0     0.0      0.0      0.0       9057.0            0  RC0603FR-07 15K8L       PD  PCE 2023-06-22              BNG          5000.0        112             0                                    0              9.0                   NaN                           No    NaN            RESISTOR   NaN         HF83        TM        NTL3-陳金水       NaN                NaN             NaN                   NaN          NaN         NaN                     NaN     NaN\n",
      "2  NTL7       NaN  0341063300  RES SMD 1/10W 15.8Kohm F 0603  0000210032       YAGEO  0000210032        C            010  PLAN ORDERS      0.0       0.0       0.0       0.0       0.0       0.0       0.0       0.0       0.0       0.0       0.0       0.0       0.0       0.0     0.0     0.0     0.0  5000.0  15000.0  20000.0       9057.0            0  RC0603FR-07 15K8L       PD  PCE 2023-06-22              BNG          5000.0        112             0                                    0              9.0                   NaN                           No    NaN            RESISTOR   NaN         HF83        TM        NTL3-陳金水       NaN                NaN             NaN                   NaN          NaN         NaN                     NaN     NaN\n",
      "3  NTL7       NaN  0341063300  RES SMD 1/10W 15.8Kohm F 0603  0000210032       YAGEO  0000210032        C            010   NET  AVAIL   7048.0    7048.0    5152.0    4572.0    4336.0    4136.0    4036.0    4036.0    4036.0    4036.0    3635.0    3619.0    3569.0    3569.0  3169.0  3069.0   163.0 -2385.0 -18916.0  47928.0       9057.0            0  RC0603FR-07 15K8L       PD  PCE 2023-06-22              BNG          5000.0        112             0                                    0              9.0                   NaN                           No    NaN            RESISTOR   NaN         HF83        TM        NTL3-陳金水       NaN                NaN             NaN                   NaN          NaN         NaN                     NaN     NaN\n",
      "4  NTL7       NaN  0341080300    RES SMD 1/10W 56Kohm F 0603  0000210032       YAGEO  0000210032        C            010  GROSS REQTS      0.0       0.0      85.0       0.0       0.0       0.0       0.0     456.0       0.0       0.0     180.0     184.0     148.0       0.0     0.0   732.0   461.0   180.0   2716.0   5142.0       1898.0            0   RC0603FR-07 56KL       PD  PCE 2023-06-22              BNG          5000.0        112             0                                    0              9.0                   NaN                           No    NaN            RESISTOR   NaN         HF83        TM        NTL3-陳金水       NaN                0.0            16.0                  16.0       1898.0         NOV                  1785.0   113.0 \n",
      "\n"
     ]
    }
   ],
   "source": [
    "\n",
    "dfc.loc[condition, \"AMT\"] = dfc.loc[condition, \"Total_Stock\"] + dfc.loc[condition, \"TOTAL_FIRM ORDERS\"] - dfc.loc[condition, \"LEAD_TIME_GrossRequest\"]\n",
    "\n",
    "\n",
    "dfc['PARTNO'] = dfc['PARTNO'].astype(str)\n",
    "print(dfc.head(5), \"\\n\")\n",
    "\n",
    "# dfc.to_csv(path + \"\\\\\" + '789.csv', index=False, encoding='utf-8-sig')\n",
    "# dfc.to_csv(path + \"\\\\\" + '789.txt', index=False, encoding='utf-8-sig',sep='\\t')\n"
   ]
  },
  {
   "cell_type": "code",
   "execution_count": 8,
   "metadata": {},
   "outputs": [
    {
     "name": "stdout",
     "output_type": "stream",
     "text": [
      "  PURCHASING GROUP REQUEST ITEM     PASSDUE    20230626    20230703    20230710    20230717    20230724    20230731    20230807    20230814    20230821    20230828    20230904    20230911    20230918         SEP        OCT        NOV        DEC      FUTURE  TOTAL_FIRM ORDERS  Total_Stock\n",
      "0              BN2  FIRM ORDERS   9625800.0     14000.0    915800.0    173000.0    222000.0   1425600.0    289500.0    233700.0    405700.0    527200.0   1325000.0    267000.0    499000.0    681000.0    536500.0  2495800.0  1694300.0  3195300.0     98000.0                0.0          0.0\n",
      "1              BN2  GROSS REQTS   3105176.0         0.0   2215936.0    946804.0   2040952.0   2733908.0   1399261.0    871688.0   1356536.0   1942684.0   4422998.0     83168.0         0.0   2029516.0   3314910.0  4072387.0  6843056.0  9530752.0  49190462.0         24624200.0   19609363.0\n",
      "2              BN2   NET  AVAIL  26103787.0  26117787.0  24817651.0  24043847.0  22224895.0  20916587.0  19806826.0  19168838.0  18218002.0  16802518.0  13704520.0  13888352.0  14387352.0  13038836.0  10260426.0  8683839.0  3535083.0 -2800369.0 -51892831.0                0.0          0.0\n",
      "3              BN2  PLAN ORDERS         0.0         0.0         0.0         0.0         0.0    121176.0       378.0         0.0         0.0     84834.0     34494.0     24000.0         0.0    118700.0     52963.0   171378.0  3214030.0  2498062.0  51277163.0                0.0          0.0\n",
      "4              BN3  FIRM ORDERS    169901.0       300.0     11840.0     11370.0      4845.0     22700.0     17340.0      6515.0     15720.0     31184.0     18987.0     24480.0      7470.0     11645.0     13168.0    65584.0    74531.0    80468.0     10150.0                0.0          0.0 \n",
      "\n",
      "  PURCHASING GROUP REQUEST ITEM  PASSDUE  20230626  20230703  20230710  20230717  20230724  20230731  20230807  20230814  20230821  20230828  20230904  20230911  20230918       SEP       OCT       NOV        DEC      FUTURE  LEAD_TIME_Week  LEAD_TIME_Week_Limit\n",
      "0              BN2  FIRM ORDERS      0.0       0.0       0.0       0.0       0.0       0.0       0.0       0.0       0.0       0.0       0.0       0.0       0.0       0.0       0.0       0.0       0.0        0.0         0.0             NaN                   NaN\n",
      "1              BN2  GROSS REQTS      0.0       0.0       0.0       0.0       0.0       0.0       0.0       0.0       0.0       0.0       0.0       0.0       0.0       0.0       0.0       0.0       0.0        0.0         0.0             0.0                   0.0\n",
      "2              BN2   NET  AVAIL  -7200.0   -7200.0 -102990.0 -102990.0 -102990.0 -216390.0 -216390.0 -216390.0 -216390.0 -273090.0 -329790.0 -329790.0 -329790.0 -386490.0 -443190.0 -556590.0 -962450.0 -1878550.0 -13499902.0             NaN                   NaN\n",
      "3              BN2  PLAN ORDERS      0.0       0.0       0.0       0.0       0.0       0.0       0.0       0.0       0.0       0.0       0.0       0.0       0.0       0.0       0.0       0.0       0.0        0.0         0.0             NaN                   NaN\n",
      "4              BN3  FIRM ORDERS      0.0       0.0       0.0       0.0       0.0       0.0       0.0       0.0       0.0       0.0       0.0       0.0       0.0       0.0       0.0       0.0       0.0        0.0         0.0             NaN                   NaN \n",
      "\n"
     ]
    }
   ],
   "source": [
    "select_columns = ['PURCHASING GROUP' , 'REQUEST ITEM'] + list(dfc.loc[:,'PASSDUE':'FUTURE'].columns) + ['TOTAL_FIRM ORDERS',  'Total_Stock']\n",
    "dfg_1 = dfc.groupby(select_columns[:2])[select_columns[2:]].sum()\n",
    "dfg_1.reset_index(inplace=True)\n",
    "print(dfg_1.head(5), '\\n')\n",
    "\n",
    "select_columns = ['PURCHASING GROUP' , 'REQUEST ITEM'] + list(dfc.loc[:,'PASSDUE':'FUTURE'].columns) + ['LEAD_TIME_Week',  'LEAD_TIME_Week_Limit']\n",
    "dfg_2 = dfc.groupby(select_columns[:2])[select_columns[2:]].min()\n",
    "dfg_2.reset_index(inplace=True)\n",
    "print(dfg_2.head(5), '\\n')\n",
    "\n",
    "# 'Demand_Week'+'LEAD_TIME_GrossRequest'+'AMT'\n",
    "\n",
    "dfg_c = pd.merge(dfg_1, dfg_2[['PURCHASING GROUP' , 'REQUEST ITEM', 'LEAD_TIME_Week',  'LEAD_TIME_Week_Limit']], on=['PURCHASING GROUP' , 'REQUEST ITEM'], how='left')\n",
    "\n"
   ]
  },
  {
   "cell_type": "code",
   "execution_count": 9,
   "metadata": {},
   "outputs": [
    {
     "name": "stdout",
     "output_type": "stream",
     "text": [
      "  PURCHASING GROUP REQUEST ITEM     PASSDUE    20230626    20230703    20230710    20230717    20230724    20230731    20230807    20230814    20230821    20230828    20230904    20230911    20230918         SEP        OCT        NOV        DEC      FUTURE  TOTAL_FIRM ORDERS  Total_Stock  LEAD_TIME_Week  LEAD_TIME_Week_Limit\n",
      "0              BN2  FIRM ORDERS   9625800.0     14000.0    915800.0    173000.0    222000.0   1425600.0    289500.0    233700.0    405700.0    527200.0   1325000.0    267000.0    499000.0    681000.0    536500.0  2495800.0  1694300.0  3195300.0     98000.0                0.0          0.0             NaN                   NaN\n",
      "1              BN2  GROSS REQTS   3105176.0         0.0   2215936.0    946804.0   2040952.0   2733908.0   1399261.0    871688.0   1356536.0   1942684.0   4422998.0     83168.0         0.0   2029516.0   3314910.0  4072387.0  6843056.0  9530752.0  49190462.0         24624200.0   19609363.0             0.0                   0.0\n",
      "2              BN2   NET  AVAIL  26103787.0  26117787.0  24817651.0  24043847.0  22224895.0  20916587.0  19806826.0  19168838.0  18218002.0  16802518.0  13704520.0  13888352.0  14387352.0  13038836.0  10260426.0  8683839.0  3535083.0 -2800369.0 -51892831.0                0.0          0.0             NaN                   NaN\n",
      "3              BN2  PLAN ORDERS         0.0         0.0         0.0         0.0         0.0    121176.0       378.0         0.0         0.0     84834.0     34494.0     24000.0         0.0    118700.0     52963.0   171378.0  3214030.0  2498062.0  51277163.0                0.0          0.0             NaN                   NaN\n",
      "4              BN3  FIRM ORDERS    169901.0       300.0     11840.0     11370.0      4845.0     22700.0     17340.0      6515.0     15720.0     31184.0     18987.0     24480.0      7470.0     11645.0     13168.0    65584.0    74531.0    80468.0     10150.0                0.0          0.0             NaN                   NaN \n",
      "\n"
     ]
    }
   ],
   "source": [
    "print(dfg_c.head(5), \"\\n\")\n",
    "for i in range(len(dfg_c)):\n",
    "    res = 0\n",
    "    for j in gross_cum_list:\n",
    "        res = res + dfg_c.loc[i, j]\n",
    "        if res > dfg_c.loc[i, 'Total_Stock']:\n",
    "            dfg_c.loc[i, 'Demand_Week'] = j\n",
    "            break\n",
    "        else:\n",
    "            dfg_c.loc[i, 'Demand_Week'] = 'no demand'\n",
    "dfg_c.loc[dfg_c['REQUEST ITEM']=='FIRM ORDERS','LEAD_TIME_Week_Limit':'Demand_Week'] = np.nan\n",
    "dfg_c.loc[dfg_c['REQUEST ITEM']=='NET  AVAIL','LEAD_TIME_Week_Limit':'Demand_Week'] = np.nan\n",
    "dfg_c.loc[dfg_c['REQUEST ITEM']=='PLAN ORDERS','LEAD_TIME_Week_Limit':'Demand_Week'] = np.nan\n",
    "\n",
    "# dfg_c.to_csv(path + \"\\\\\" + '111.txt', index=False, encoding='utf-8-sig',sep='\\t')\n"
   ]
  },
  {
   "cell_type": "code",
   "execution_count": 10,
   "metadata": {},
   "outputs": [
    {
     "name": "stdout",
     "output_type": "stream",
     "text": [
      "   PURCHASING GROUP REQUEST ITEM      PASSDUE    20230626     20230703     20230710     20230717     20230724     20230731     20230807     20230814     20230821     20230828    20230904     20230911     20230918          SEP          OCT          NOV          DEC        FUTURE  TOTAL_FIRM ORDERS   Total_Stock  LEAD_TIME_Week  LEAD_TIME_Week_Limit Demand_Week  LEAD_TIME_GrossRequest           AMT  order_set\n",
      "57              BNG  GROSS REQTS  34872768.00  3669390.00  21177923.00  26665787.00  15371912.00  20950663.00  26112523.00  17242060.00  13701921.00  10969602.00  15331488.00  21700078.0  12079445.00  13132526.00  21734758.00  75612297.00  84775753.00  65237591.00  2.467114e+08       2.049500e+08  1.519731e+08             4.0                   4.0    20230807             86385868.00  2.705373e+08          0\n",
      "21              BN7  GROSS REQTS   2561924.60        0.00   1097878.00    548468.00   1821001.60   2020716.39    799662.00    485816.00    823488.00   2070316.00   2631898.61    113904.0         0.00   2247652.00   1861128.61   3076838.61   4784838.61   6834767.88  2.748021e+07       1.624201e+07  2.302136e+07             0.0                   0.0         NOV                    0.00  3.926337e+07          0\n",
      "81              BNM  GROSS REQTS   1396559.41    97868.47    522965.61    573449.09    356356.11    416984.05    505727.28    444705.03    329150.05    185872.03    288087.09    529280.6    283608.28    257572.11    301959.64   1715480.82   1775179.10   1515603.75  5.357864e+06       2.172189e+06  4.185469e+06             0.0                   0.0    20230807                    0.00  6.357658e+06          0\n",
      "25              BN8  GROSS REQTS     95957.51       20.00     56340.35     19059.59     75571.80    102526.05     32461.20     11810.00     27714.00         0.00    176541.91      6854.0     19265.00      9730.00    186975.28    177088.47    170512.30    236054.02  7.526174e+05       3.113730e+05  1.151823e+06             2.0                   2.0         NOV                95977.51  1.367218e+06          0\n",
      "77              BNL  GROSS REQTS    102585.00    10302.00     64354.00     69444.00     38678.00     50044.00     64045.00     45102.00     24809.00     31806.00     35992.00     59731.0     28348.00     38577.00     43334.00    198052.00    221080.00    181816.00  7.341420e+05       6.839180e+05  3.236380e+05             0.0                   0.0    20230724                    0.00  1.007556e+06          0\n",
      "73              BNK  GROSS REQTS   6235548.00   532290.00   3812556.00   4620380.00   2432421.00   3912933.00   4996285.00   3297059.00   3264694.00   1975484.00   2755422.00   3398361.0   2290099.00   2764601.00   4093250.00  13702660.00  15102850.00  11493145.00  4.152014e+07       3.511877e+07  3.251010e+07             5.0                   5.0    20230814             17633195.00  4.999567e+07          0\n",
      "29              BN9  GROSS REQTS     11373.00        0.00     18290.00      1284.00     11120.00     27074.00      2374.00       856.00      4024.00     21664.00     15506.00       904.0         0.00     24328.00     12698.00     31966.00     33464.00     28116.00  5.801400e+04       1.159020e+05  7.008600e+04             0.0                   0.0    20230731                    0.00  1.859880e+05          0\n",
      "85              BNN  GROSS REQTS         0.00        0.00         0.00         0.00         0.00         0.00         0.00         0.00         0.00         0.00         0.00         0.0         0.00         0.00         0.00         0.00       500.00         0.00  0.000000e+00       0.000000e+00  0.000000e+00             2.0                   2.0         NOV                    0.00  0.000000e+00          0\n",
      "69              BNJ  GROSS REQTS    602476.00    20600.00    423912.00    239213.00    143805.00    169101.00    443874.00    183964.00    126904.00    180348.00    130823.00    401618.0    114671.00    107031.00    112580.00    882293.00    826569.00    654968.00  2.144592e+06       2.335384e+06  4.586190e+06             4.0                   4.0         NOV              1286201.00  5.635373e+06          0\n",
      "65              BNI  GROSS REQTS   1500697.00   177710.00   1148638.00   1205536.00    756535.00    829485.00   1083193.00    917494.00    579578.00    440336.00    630806.00   1092852.0    541060.00    679971.00    559714.00   3844766.00   4223699.00   3619770.00  1.403465e+07       8.129461e+06  3.246499e+06             0.0                   0.0    20230710                    0.00  1.137596e+07          0 \u0000\n"
     ]
    }
   ],
   "source": [
    "for i in range(len(dfg_c)):\n",
    "    res = 0\n",
    "    try:\n",
    "        for j in range(int(dfg_c.loc[i, \"LEAD_TIME_Week_Limit\"])):\n",
    "            res = res + dfg_c.iloc[i, 2 + j]\n",
    "\n",
    "        dfg_c.loc[i, 'LEAD_TIME_GrossRequest'] = res\n",
    "    except:\n",
    "        continue\n",
    "\n",
    "condition = dfg_c['REQUEST ITEM'] == 'GROSS REQTS'\n",
    "dfg_c.loc[condition, \"AMT\"] = dfg_c.loc[condition, \"Total_Stock\"] + dfg_c.loc[condition, \"TOTAL_FIRM ORDERS\"] - dfg_c.loc[condition, \"LEAD_TIME_GrossRequest\"]\n",
    "\n",
    "order_set = {\"GROSS REQTS\":0, \"FIRM ORDERS\":1, \"PLAN ORDERS\":2, \"NET  AVAIL\":3}\n",
    "dfg_c['order_set'] = dfg_c['REQUEST ITEM'].map(order_set)\n",
    "dfg_c.sort_values(by=['order_set'], ascending=True, inplace=True)\n",
    "\n",
    "print(dfg_c.head(10), '\\0')"
   ]
  },
  {
   "cell_type": "code",
   "execution_count": 11,
   "metadata": {},
   "outputs": [],
   "source": [
    "\n",
    "\n",
    "dfc = pd.concat([dfc, dfg_c], axis=0)\n",
    "\n",
    "dfc.to_csv(path + \"\\\\\" + '111.txt', index=False, encoding='utf-8-sig',sep='\\t')\n",
    "\n"
   ]
  }
 ],
 "metadata": {
  "kernelspec": {
   "display_name": "Python 3",
   "language": "python",
   "name": "python3"
  },
  "language_info": {
   "codemirror_mode": {
    "name": "ipython",
    "version": 3
   },
   "file_extension": ".py",
   "mimetype": "text/x-python",
   "name": "python",
   "nbconvert_exporter": "python",
   "pygments_lexer": "ipython3",
   "version": "3.8.10"
  }
 },
 "nbformat": 4,
 "nbformat_minor": 2
}
